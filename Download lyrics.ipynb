{
 "cells": [
  {
   "cell_type": "code",
   "execution_count": 12,
   "metadata": {
    "collapsed": true
   },
   "outputs": [],
   "source": [
    "import urllib.request as urllib2\n",
    "from bs4 import BeautifulSoup\n",
    "import pandas as pd\n",
    "import re\n",
    "from unidecode import unidecode\n",
    "import os"
   ]
  },
  {
   "cell_type": "code",
   "execution_count": 5,
   "metadata": {
    "collapsed": true
   },
   "outputs": [],
   "source": [
    "# get the link to the metrolyrics page of your artist\n",
    "\n",
    "page_link = 'http://www.metrolyrics.com/eminem-lyrics.html'\n",
    "page = urllib2.urlopen(page_link)\n",
    "soup = BeautifulSoup(page, 'html.parser')\n",
    "songs = soup.find_all('a', attrs={'class': 'title hasvidtable'})\n",
    "\n",
    "# extract all the song titles you can find\n",
    "link_lyric_list = []\n",
    "for song in songs:\n",
    "    link_lyric = re.findall(r\"(http.*html)\" ,(str(song)))[0]\n",
    "    link_lyric_list.append(link_lyric)\n",
    "    \n",
    "df_lyrics = pd.DataFrame(link_lyric_list, columns=['link'])"
   ]
  },
  {
   "cell_type": "code",
   "execution_count": 6,
   "metadata": {},
   "outputs": [
    {
     "name": "stdout",
     "output_type": "stream",
     "text": [
      "writing:  Rap God\n",
      "writing:  Eminem - Lose Yourself\n",
      "writing:  Eminem - Lose Yourself\n",
      "writing:  Eminem - Love The Way You Lie\n",
      "writing:  Eminem - The Real Slim Shady\n",
      "writing:  Eminem - I'm Sorry Mama (full Song)\n",
      "writing:  Eminem - Without Me\n",
      "writing:  Eminem - Mockingbird\n",
      "writing:  Eminem - No Love\n",
      "writing:  Eminem - Not Afraid\n",
      "writing:  Eminem - Stan\n",
      "writing:  Eminem - Till I Collapse\n",
      "writing:  Eminem - Beautiful\n",
      "writing:  Eminem - I Need A Doctor\n",
      "writing:  Eminem - Lighters\n",
      "writing:  Eminem - Superman\n",
      "writing:  Eminem - The Monster\n",
      "writing:  Eminem - My Mom\n",
      "writing:  Eminem - When I'm Gone\n",
      "writing:  Eminem - Shake That\n",
      "writing:  Eminem - The Way I Am\n",
      "writing:  Eminem - Ass Like That\n",
      "writing:  Eminem - My Name Is\n",
      "writing:  Eminem - Cleaning Out My Closet\n",
      "writing:  Eminem - Just Lose It\n",
      "writing:  Eminem - Space Bound\n",
      "writing:  Eminem - Fack\n",
      "writing:  Eminem - Airplanes Part 2\n",
      "writing:  Eminem - River\n",
      "writing:  Eminem - 25 To Life\n",
      "writing:  Eminem - Legacy\n",
      "writing:  Eminem - 8 Mile Freestyle Pt.III Vs\n",
      "writing:  Eminem - Crack A Bottle\n",
      "writing:  Eminem - My Band\n",
      "writing:  Eminem - Like Toy Soldiers\n",
      "writing:  Eminem - Kim\n",
      "writing:  Eminem - You Don't Know\n",
      "writing:  Eminem - The Warning\n",
      "writing:  Eminem - Marshall Mathers\n",
      "writing:  Eminem - Beautiful Pain\n",
      "writing:  Eminem - White America\n",
      "writing:  Eminem - Forgot About Dre\n",
      "writing:  Eminem - Sing For The Moment\n",
      "writing:  Eminem - Fast Lane\n",
      "writing:  Eminem - Bitch Please Ii\n",
      "writing:  Eminem - 8 Mile\n",
      "writing:  Eminem - Bad Guy\n",
      "writing:  Eminem - We Made You\n",
      "writing:  Eminem - Walk On Water\n",
      "writing:  Eminem - Cleanin Out My Closet\n",
      "writing:  Eminem - Guilty Conscience\n",
      "writing:  Eminem - Offended\n",
      "writing:  Eminem - A Drop In The Ocean\n",
      "writing:  Eminem - Phenomenal\n",
      "writing:  Eminem - Kill You\n",
      "writing:  Eminem - Guts Over Fear\n",
      "writing:  Eminem - My Name Is (Real Dirty)\n",
      "writing:  Eminem - Drug Ballad\n",
      "writing:  Eminem - Berzerk\n",
      "writing:  Eminem - Hailie's Song\n",
      "writing:  Rihanna - Love The Way You Lie Part II\n",
      "writing:  Akon - Smack That\n",
      "writing:  Lil Wayne - Drop The World\n",
      "writing:  Dr. Dre - Forgot About Dre -\n",
      "writing:  Rihanna - Love The Way You Lie\n",
      "writing:  P!nk - Revenge\n",
      "writing:  Dr. Dre - Forget About Dre\n",
      "writing:  Dr. Dre - What's The Difference\n",
      "writing:  Royce Da 5'9\" - Caterpillar\n",
      "writing:  Dr. Dre - I Need A Doctor\n",
      "writing:  50 Cent - My Life\n"
     ]
    }
   ],
   "source": [
    "# itterate through df and get all the text from the link\n",
    "\n",
    "for index, row in df_lyrics.iterrows():\n",
    "    page = urllib2.urlopen(row['link'])\n",
    "    soup = BeautifulSoup(page, 'html.parser')\n",
    "    verses = soup.find_all('p', attrs={'class': 'verse'})\n",
    "    title_element = soup.find_all('title')\n",
    "\n",
    "    title = re.findall(r\"(?<=<title>).*?(?=\\sLyrics)\" , str(title_element))[0]\n",
    "\n",
    "    \n",
    "    lyrics = ''\n",
    "    for verse in verses:\n",
    "        text = verse.text.strip()\n",
    "        text = re.sub(r\"\\[.*\\]\\n\", \"\", unidecode(text))\n",
    "        if lyrics == '':\n",
    "            lyrics = lyrics + text.replace('\\n', ' ')\n",
    "        else:\n",
    "            lyrics = lyrics + ' ' + text.replace('\\n', ' ')\n",
    "\n",
    "    df_lyrics.at[index, 'lyrics'] = lyrics\n",
    "    df_lyrics.at[index, 'title'] = title\n",
    "\n",
    "    print('writing: ', title )"
   ]
  },
  {
   "cell_type": "code",
   "execution_count": 7,
   "metadata": {},
   "outputs": [
    {
     "name": "stdout",
     "output_type": "stream",
     "text": [
      "                                                link  \\\n",
      "0  http://www.metrolyrics.com/rap-god-lyrics-emin...   \n",
      "1  http://www.metrolyrics.com/lose-yourself-lyric...   \n",
      "2  http://www.metrolyrics.com/lose-yourself-dirty...   \n",
      "3  http://www.metrolyrics.com/love-the-way-you-li...   \n",
      "4  http://www.metrolyrics.com/the-real-slim-shady...   \n",
      "\n",
      "                                              lyrics  \\\n",
      "0  Look, I was gonna go easy on you not to hurt y...   \n",
      "1  Look If you had one shot, or one opportunity T...   \n",
      "2  Look If you had one shot, or one opportunity T...   \n",
      "3  Just gonna stand there and watch me burn But t...   \n",
      "4  Eminem] May I have your attention please? May ...   \n",
      "\n",
      "                           title  \n",
      "0                        Rap God  \n",
      "1         Eminem - Lose Yourself  \n",
      "2         Eminem - Lose Yourself  \n",
      "3  Eminem - Love The Way You Lie  \n",
      "4   Eminem - The Real Slim Shady  \n"
     ]
    }
   ],
   "source": [
    "print(df_lyrics.head())"
   ]
  },
  {
   "cell_type": "code",
   "execution_count": 8,
   "metadata": {},
   "outputs": [
    {
     "name": "stdout",
     "output_type": "stream",
     "text": [
      "                                                link  \\\n",
      "1  http://www.metrolyrics.com/lose-yourself-lyric...   \n",
      "3  http://www.metrolyrics.com/love-the-way-you-li...   \n",
      "4  http://www.metrolyrics.com/the-real-slim-shady...   \n",
      "5  http://www.metrolyrics.com/im-sorry-mama-full-...   \n",
      "6  http://www.metrolyrics.com/without-me-lyrics-e...   \n",
      "\n",
      "                                              lyrics  \\\n",
      "1  Look If you had one shot, or one opportunity T...   \n",
      "3  Just gonna stand there and watch me burn But t...   \n",
      "4  Eminem] May I have your attention please? May ...   \n",
      "5  Where's my snare? I have no snare on my headph...   \n",
      "6  Obie Trice, real name no gimmicks Two trailer ...   \n",
      "\n",
      "                                 title  \n",
      "1               Eminem - Lose Yourself  \n",
      "3        Eminem - Love The Way You Lie  \n",
      "4         Eminem - The Real Slim Shady  \n",
      "5  Eminem - I'm Sorry Mama (full Song)  \n",
      "6                  Eminem - Without Me  \n"
     ]
    }
   ],
   "source": [
    "# drop columns with songs not only by Eminem\n",
    "mask = df_lyrics['title'].str.contains('Eminem', regex=False)\n",
    "df_lyrics = df_lyrics[mask]\n",
    "\n",
    "# drop second row because we only need the explicit version of Lose Yourself. Parental Advisory.\n",
    "df_lyrics.drop(df_lyrics.index[1], inplace=True)\n",
    "print(df_lyrics.head())"
   ]
  },
  {
   "cell_type": "code",
   "execution_count": 14,
   "metadata": {},
   "outputs": [
    {
     "name": "stdout",
     "output_type": "stream",
     "text": [
      "writing to .csv\n"
     ]
    }
   ],
   "source": [
    "# check if folder exists\n",
    "directory = \"files\"\n",
    "if not os.path.exists(directory):\n",
    "    os.makedirs(directory)\n",
    "    \n",
    "\n",
    "filename = directory + \"/eminem_lyrics.csv\"\n",
    "\n",
    "print('writing to .csv')\n",
    "df_lyrics.to_csv(filename, sep=';', encoding='utf-8')"
   ]
  },
  {
   "cell_type": "code",
   "execution_count": null,
   "metadata": {
    "collapsed": true
   },
   "outputs": [],
   "source": [
    ""
   ]
  }
 ],
 "metadata": {
  "kernelspec": {
   "display_name": "Python 3",
   "language": "python",
   "name": "python3"
  },
  "language_info": {
   "codemirror_mode": {
    "name": "ipython",
    "version": 3.0
   },
   "file_extension": ".py",
   "mimetype": "text/x-python",
   "name": "python",
   "nbconvert_exporter": "python",
   "pygments_lexer": "ipython3",
   "version": "3.6.3"
  }
 },
 "nbformat": 4,
 "nbformat_minor": 0
}