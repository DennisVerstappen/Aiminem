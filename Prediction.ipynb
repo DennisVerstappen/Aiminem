{
 "cells": [
  {
   "cell_type": "code",
   "execution_count": null,
   "metadata": {},
   "outputs": [
    {
     "name": "stderr",
     "output_type": "stream",
     "text": [
      "Using TensorFlow backend.\n"
     ]
    }
   ],
   "source": [
    "import pandas as pd\n",
    "import numpy as np\n",
    "import sys\n",
    "import pickle\n",
    "\n",
    "#import keras \n",
    "from keras.models import Sequential, load_model\n",
    "from keras.layers import LSTM, Dense, Activation\n",
    "from keras.optimizers import RMSprop\n",
    "import h5py"
   ]
  },
  {
   "cell_type": "code",
   "execution_count": null,
   "metadata": {
    "collapsed": true
   },
   "outputs": [],
   "source": [
    "# load the model\n",
    "folder = \"files/\"\n",
    "model = load_model(folder + 'Aiminem_model.h5')  # creates a HDF5 file 'my_model.h5'\n",
    "\n",
    "# load chars\n",
    "infile = open(folder + 'chars','rb')\n",
    "chars = pickle.load(infile)\n",
    "infile.close()\n",
    "\n",
    "# load char_indices\n",
    "infile = open(folder + 'char_indices','rb')\n",
    "char_indices = pickle.load(infile)\n",
    "infile.close()\n",
    "\n",
    "# load indices_char\n",
    "infile = open(folder + 'indices_char','rb')\n",
    "indices_char = pickle.load(infile)\n",
    "infile.close()\n",
    "\n",
    "# set lyric lenght\n",
    "LYRIC_LENGTH = 80"
   ]
  },
  {
   "cell_type": "code",
   "execution_count": 15,
   "metadata": {},
   "outputs": [
    {
     "name": "stdout",
     "output_type": "stream",
     "text": [
      "sweet home alabama\"\"\"\"\"\"\"\"\"\"\"\"\"\"\"\"\"\"\"\"\"\"\"\"\"\"\"\"\"\"\"\"\"\"\"\"\"\"\"\"\"\"\"\"\"\"\"\"\"\"\"\"\"\"\"\"\"\"\"\"\"\"\"\"\"\"\"\"\"\"\"\"\"\"\"\"\"\"\"\"\n",
      "98\n"
     ]
    }
   ],
   "source": [
    "sentence = \"Sweet home alabama\"\n",
    "sequence_length = 20\n",
    "sentence = sentence[-19:].lower()\n",
    "generated = sentence\n",
    "temperature = 0.1\n",
    "\n",
    "for i in range(LYRIC_LENGTH):\n",
    "    x = np.zeros((1, sequence_length, len(chars)))\n",
    "    for t, char in enumerate(sentence):\n",
    "        x[0, t, char_indices[char]] = 1.\n",
    "    \n",
    "    # do prediction\n",
    "    predictions = model.predict(x, verbose=0)[0]\n",
    "    \n",
    "    # get char with highest probability \n",
    "    preds = np.asarray(predictions).astype('float64')\n",
    "    preds = np.log(preds) / temperature\n",
    "    exp_preds = np.exp(preds)\n",
    "    preds = exp_preds / np.sum(exp_preds)\n",
    "    probas = np.random.multinomial(1, preds, 1)\n",
    "    \n",
    "    next_index = np.argmax(predictions)\n",
    "    \n",
    "    next_char = indices_char[next_index]\n",
    "    generated += next_char\n",
    "    sentence = sentence[1:] + next_char\n",
    "\n",
    "\n",
    "print(generated)\n",
    "print(len(generated))"
   ]
  }
 ],
 "metadata": {
  "kernelspec": {
   "display_name": "Python 3",
   "language": "python",
   "name": "python3"
  },
  "language_info": {
   "codemirror_mode": {
    "name": "ipython",
    "version": 3
   },
   "file_extension": ".py",
   "mimetype": "text/x-python",
   "name": "python",
   "nbconvert_exporter": "python",
   "pygments_lexer": "ipython3",
   "version": "3.6.3"
  }
 },
 "nbformat": 4,
 "nbformat_minor": 2
}
